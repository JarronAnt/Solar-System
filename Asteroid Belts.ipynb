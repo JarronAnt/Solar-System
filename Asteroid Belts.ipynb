{
 "cells": [
  {
   "cell_type": "code",
   "execution_count": null,
   "metadata": {},
   "outputs": [
    {
     "data": {
      "text/html": [
       "<div id=\"glowscript\" class=\"glowscript\"></div>"
      ],
      "text/plain": [
       "<IPython.core.display.HTML object>"
      ]
     },
     "metadata": {},
     "output_type": "display_data"
    },
    {
     "data": {
      "application/javascript": [
       "if (typeof Jupyter !== \"undefined\") { window.__context = { glowscript_container: $(\"#glowscript\").removeAttr(\"id\")};}else{ element.textContent = ' ';}"
      ],
      "text/plain": [
       "<IPython.core.display.Javascript object>"
      ]
     },
     "metadata": {},
     "output_type": "display_data"
    },
    {
     "data": {
      "application/javascript": [
       "if (typeof Jupyter !== \"undefined\") {require.undef(\"nbextensions/vpython_libraries/glow.min\");}else{element.textContent = ' ';}"
      ],
      "text/plain": [
       "<IPython.core.display.Javascript object>"
      ]
     },
     "metadata": {},
     "output_type": "display_data"
    },
    {
     "data": {
      "application/javascript": [
       "if (typeof Jupyter !== \"undefined\") {require.undef(\"nbextensions/vpython_libraries/glowcomm\");}else{element.textContent = ' ';}"
      ],
      "text/plain": [
       "<IPython.core.display.Javascript object>"
      ]
     },
     "metadata": {},
     "output_type": "display_data"
    },
    {
     "data": {
      "application/javascript": [
       "if (typeof Jupyter !== \"undefined\") {require.undef(\"nbextensions/vpython_libraries/jquery-ui.custom.min\");}else{element.textContent = ' ';}"
      ],
      "text/plain": [
       "<IPython.core.display.Javascript object>"
      ]
     },
     "metadata": {},
     "output_type": "display_data"
    },
    {
     "data": {
      "application/javascript": [
       "if (typeof Jupyter !== \"undefined\") {require([\"nbextensions/vpython_libraries/glow.min\"], function(){console.log(\"GLOW LOADED\");});}else{element.textContent = ' ';}"
      ],
      "text/plain": [
       "<IPython.core.display.Javascript object>"
      ]
     },
     "metadata": {},
     "output_type": "display_data"
    },
    {
     "data": {
      "application/javascript": [
       "if (typeof Jupyter !== \"undefined\") {require([\"nbextensions/vpython_libraries/glowcomm\"], function(){console.log(\"GLOWCOMM LOADED\");});}else{element.textContent = ' ';}"
      ],
      "text/plain": [
       "<IPython.core.display.Javascript object>"
      ]
     },
     "metadata": {},
     "output_type": "display_data"
    },
    {
     "data": {
      "application/javascript": [
       "if (typeof Jupyter !== \"undefined\") {require([\"nbextensions/vpython_libraries/jquery-ui.custom.min\"], function(){console.log(\"JQUERY LOADED\");});}else{element.textContent = ' ';}"
      ],
      "text/plain": [
       "<IPython.core.display.Javascript object>"
      ]
     },
     "metadata": {},
     "output_type": "display_data"
    }
   ],
   "source": [
    "from vpython import *\n",
    "graph(fast=True)\n",
    "total = gcurve(color=color.cyan,label=\"total energy\")\n",
    "\n",
    "def gforce(p1, p2):\n",
    "    # Calculate the gravitational force exerted on p1 by p2.\n",
    "    G = 1  # Change to 6.67e-11 to use real-world values.\n",
    "    # Calculate distance vector between p1 and p2.\n",
    "    r_vec = p1.pos-p2.pos\n",
    "    # Calculate magnitude of distance vector.\n",
    "    r_mag = mag(r_vec)\n",
    "    # Calcualte unit vector of distance vector.\n",
    "    r_hat = r_vec/r_mag\n",
    "    # Calculate force magnitude.\n",
    "    force_mag = G*p1.mass*p2.mass/r_mag**2\n",
    "    # Calculate force vector.\n",
    "    force_vec = -force_mag*r_hat\n",
    "\n",
    "    return force_vec\n",
    "\n",
    "def kin(p1):\n",
    "    # Calculate the kinetic energy of p1.\n",
    "    ke = 0.5*mag(p1.momentum)**2/p1.mass\n",
    "    return ke\n",
    "\n",
    "def gpe(p1,p2):\n",
    "    # Calculate the gravitational potential energy between p1 and p2.\n",
    "    G = 1 # Change to 6.67e-11 to use real-world values.\n",
    "    # Calculate distance vector between p1 and p2.\n",
    "    r_vec = p1.pos-p2.pos\n",
    "    # Calculate magnitude of distance vector.\n",
    "    r_mag = mag(r_vec)\n",
    "    # Calculate gravitational potential energy.\n",
    "    gpe = -G*p1.mass*p2.mass/r_mag\n",
    "    \n",
    "    return gpe\n",
    "    \n",
    "\n",
    "\n",
    "#create the System\n",
    "star = sphere(pos=vector(0, 0, 0), radius=0.2, color=color.yellow,\n",
    "              mass=1000, momentum=vector(0, 0, 0), make_trail=True,grph=gcurve(color=color.yellow, label=\"star KE\"))\n",
    "\n",
    "planet1 = sphere(pos=vector(1, 0, 0), radius=0.05, color=color.blue,\n",
    "                mass=1, momentum=vector(0, 30, 0), make_trail=True,grph=gcurve(color=color.blue, label=\"planet1 KE\"))\n",
    "\n",
    "planet2 = sphere( pos=vector(0,3,0), radius=0.075, color=color.red,\n",
    "                  mass = 2, momentum=vector(-35,0,0), make_trail=True,grph=gcurve(color=color.red, label=\"planet2 KE\") )\n",
    "                  \n",
    "planet3 = sphere( pos=vector(0,-4,0), radius=0.1, color=color.green,\n",
    "                  mass = 10, momentum=vector(160,0,0), make_trail=True,grph=gcurve(color=color.green, label=\"planet3 KE\") )\n",
    "\n",
    "comet = sphere( pos=vector(-6,6,0), radius=0.05, color=color.white,\n",
    "                mass = 0.5, momentum=vector(-1,-1,0), make_trail=True,grph=gcurve(color=color.black, label=\"comet KE\") )\n",
    "\n",
    "tail = cone( pos=comet.pos, axis=comet.pos-star.pos, \n",
    "             size=vector(1,1,1)*comet.radius, color=color.cyan )\n",
    "\n",
    "\n",
    "\n",
    "asteroids = []\n",
    "rmin = 6\n",
    "rmax =9\n",
    "mmin = 0.01\n",
    "mmax = 0.10\n",
    "for i in range(0,20):\n",
    "    r = rmin + random()*(rmax-rmin)\n",
    "    theta = random()*2*pi\n",
    "    mass = mmin + random()*(mmax-mmin)\n",
    "    momentum = mass*sqrt(star.mass/r)\n",
    "    #ecc = 0.8+random()*(1.2-0.8) #remove if you want\n",
    "    asteroids.append( sphere( pos=r*vector(cos(theta),sin(theta),0),\n",
    "                              momentum=ecc*momentum*vector(-sin(theta),cos(theta),0),\n",
    "                              mass=mass, color=color.white, radius=0.15))\n",
    "\n",
    "\n",
    "dt = 0.0001\n",
    "t = 0\n",
    "while (True):\n",
    "    rate(600)\n",
    "\n",
    " # Calculate forces.\n",
    "    star.force = gforce(star,planet1)+gforce(star,planet2)+gforce(star,planet3)\n",
    "    planet1.force = gforce(planet1,star)+gforce(planet1,planet2)+gforce(planet1,planet3) \n",
    "    planet2.force = gforce(planet2,star)+gforce(planet2,planet1)+gforce(planet2,planet3)\n",
    "    planet3.force = gforce(planet3,star)+gforce(planet3,planet1)+gforce(planet3,planet2)\n",
    "    comet.force = gforce(comet,star)\n",
    "    for a in asteroids:\n",
    "        a.force = gforce(a,star)+gforce(a,planet1)+gforce(a,planet2)+gforce(a,planet3)\n",
    "        \n",
    "\n",
    "    # Update momenta.\n",
    "    star.momentum = star.momentum + star.force*dt\n",
    "    planet1.momentum = planet1.momentum + planet1.force*dt\n",
    "    planet2.momentum = planet2.momentum + planet2.force*dt\n",
    "    planet3.momentum = planet3.momentum + planet3.force*dt\n",
    "    comet.momentum = comet.momentum+comet.force*dt\n",
    "    for a in asteroids:\n",
    "        a.momentum = a.momentum+a.force*dt\n",
    "\n",
    "\n",
    "    # Update positions.\n",
    "    star.pos = star.pos + star.momentum/star.mass*dt\n",
    "    planet1.pos = planet1.pos + planet1.momentum/planet1.mass*dt\n",
    "    planet2.pos = planet2.pos + planet2.momentum/planet2.mass*dt\n",
    "    planet3.pos = planet3.pos + planet3.momentum/planet3.mass*dt\n",
    "    comet.pos = comet.pos + comet.momentum/comet.mass*dt\n",
    "    tail.pos = comet.pos+comet.radius*vector(1,1,1)\n",
    "    tail.axis = comet.pos-star.pos\n",
    "    tail.axis = tail.axis/mag(tail.axis)\n",
    "    for a in asteroids:\n",
    "        a.pos = a.pos + a.momentum/a.mass*dt\n",
    "    \n",
    "    # Update energy graphs.\n",
    "    star.grph.plot(pos=(t,kin(star)))\n",
    "    planet1.grph.plot(pos=(t,kin(planet1)))\n",
    "    planet2.grph.plot(pos=(t,kin(planet2)))\n",
    "    planet3.grph.plot(pos=(t,kin(planet3)))\n",
    "    comet.grph.plot(pos=(t,kin(comet)))\n",
    "    total_e = kin(star)+kin(planet1)+kin(planet2)+kin(planet3)+kin(comet)\n",
    "    total_e = total_e+gpe(star,planet1)+gpe(star,planet2)+gpe(star,planet3)+gpe(star,comet)\n",
    "    total_e = total_e+gpe(planet1,planet2)+gpe(planet1,planet3)+gpe(planet1,comet)\n",
    "    total_e = total_e+gpe(planet2,planet3)+gpe(planet2,comet)+gpe(planet3,comet)\n",
    "    total.plot(pos=(t,total_e))\n",
    "    \n",
    "    t = t + dt\n"
   ]
  },
  {
   "cell_type": "code",
   "execution_count": null,
   "metadata": {},
   "outputs": [],
   "source": []
  }
 ],
 "metadata": {
  "kernelspec": {
   "display_name": "VPython",
   "language": "python",
   "name": "vpython"
  },
  "language_info": {
   "codemirror_mode": {
    "name": "ipython",
    "version": 3
   },
   "file_extension": ".py",
   "mimetype": "text/x-python",
   "name": "python",
   "nbconvert_exporter": "python",
   "pygments_lexer": "ipython3",
   "version": "3.8.0"
  }
 },
 "nbformat": 4,
 "nbformat_minor": 4
}

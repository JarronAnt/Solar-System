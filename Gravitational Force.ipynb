{
 "cells": [
  {
   "cell_type": "code",
   "execution_count": null,
   "metadata": {},
   "outputs": [
    {
     "data": {
      "text/html": [
       "<div id=\"glowscript\" class=\"glowscript\"></div>"
      ],
      "text/plain": [
       "<IPython.core.display.HTML object>"
      ]
     },
     "metadata": {},
     "output_type": "display_data"
    },
    {
     "data": {
      "application/javascript": [
       "if (typeof Jupyter !== \"undefined\") { window.__context = { glowscript_container: $(\"#glowscript\").removeAttr(\"id\")};}else{ element.textContent = ' ';}"
      ],
      "text/plain": [
       "<IPython.core.display.Javascript object>"
      ]
     },
     "metadata": {},
     "output_type": "display_data"
    },
    {
     "data": {
      "application/javascript": [
       "if (typeof Jupyter !== \"undefined\") {require.undef(\"nbextensions/vpython_libraries/glow.min\");}else{element.textContent = ' ';}"
      ],
      "text/plain": [
       "<IPython.core.display.Javascript object>"
      ]
     },
     "metadata": {},
     "output_type": "display_data"
    },
    {
     "data": {
      "application/javascript": [
       "if (typeof Jupyter !== \"undefined\") {require.undef(\"nbextensions/vpython_libraries/glowcomm\");}else{element.textContent = ' ';}"
      ],
      "text/plain": [
       "<IPython.core.display.Javascript object>"
      ]
     },
     "metadata": {},
     "output_type": "display_data"
    },
    {
     "data": {
      "application/javascript": [
       "if (typeof Jupyter !== \"undefined\") {require.undef(\"nbextensions/vpython_libraries/jquery-ui.custom.min\");}else{element.textContent = ' ';}"
      ],
      "text/plain": [
       "<IPython.core.display.Javascript object>"
      ]
     },
     "metadata": {},
     "output_type": "display_data"
    },
    {
     "data": {
      "application/javascript": [
       "if (typeof Jupyter !== \"undefined\") {require([\"nbextensions/vpython_libraries/glow.min\"], function(){console.log(\"GLOW LOADED\");});}else{element.textContent = ' ';}"
      ],
      "text/plain": [
       "<IPython.core.display.Javascript object>"
      ]
     },
     "metadata": {},
     "output_type": "display_data"
    },
    {
     "data": {
      "application/javascript": [
       "if (typeof Jupyter !== \"undefined\") {require([\"nbextensions/vpython_libraries/glowcomm\"], function(){console.log(\"GLOWCOMM LOADED\");});}else{element.textContent = ' ';}"
      ],
      "text/plain": [
       "<IPython.core.display.Javascript object>"
      ]
     },
     "metadata": {},
     "output_type": "display_data"
    },
    {
     "data": {
      "application/javascript": [
       "if (typeof Jupyter !== \"undefined\") {require([\"nbextensions/vpython_libraries/jquery-ui.custom.min\"], function(){console.log(\"JQUERY LOADED\");});}else{element.textContent = ' ';}"
      ],
      "text/plain": [
       "<IPython.core.display.Javascript object>"
      ]
     },
     "metadata": {},
     "output_type": "display_data"
    }
   ],
   "source": [
    "from vpython import *\n",
    "orbit = gcurve(color=color.blue)\n",
    "\n",
    "\n",
    "def gforce(p1, p2):\n",
    "    # Calculate the gravitational force exerted on p1 by p2.\n",
    "    G = 1  # Change to 6.67e-11 to use real-world values.\n",
    "    # Calculate distance vector between p1 and p2.\n",
    "    r_vec = p1.pos-p2.pos\n",
    "    # Calculate magnitude of distance vector.\n",
    "    r_mag = mag(r_vec)\n",
    "    # Calcualte unit vector of distance vector.\n",
    "    r_hat = r_vec/r_mag\n",
    "    # Calculate force magnitude.\n",
    "    force_mag = G*p1.mass*p2.mass/r_mag**2\n",
    "    # Calculate force vector.\n",
    "    force_vec = -force_mag*r_hat\n",
    "\n",
    "    return force_vec\n",
    "\n",
    "#create the System\n",
    "star = sphere(pos=vector(0, 0, 0), radius=0.2, color=color.yellow,\n",
    "              mass=2.0*1000, momentum=vector(0, 0, 0), make_trail=True)\n",
    "planet = sphere(pos=vector(1, 0, 0), radius=0.05, color=color.blue,\n",
    "                mass=1, momentum=vector(0, 30, 0), make_trail=True)\n",
    "\n",
    "dt = 0.0001\n",
    "t = 0\n",
    "while (True):\n",
    "    rate(300)\n",
    "\n",
    "    # Calculate forces.\n",
    "    star.force = gforce(star, planet)\n",
    "    planet.force = gforce(planet, star)\n",
    "    # Update momentum.\n",
    "    star.momentum = star.momentum + star.force*dt\n",
    "    planet.momentum = planet.momentum + planet.force*dt\n",
    "    # Update positions.\n",
    "    star.pos = star.pos + star.momentum/star.mass*dt\n",
    "    planet.pos = planet.pos + planet.momentum/planet.mass*dt\n",
    "    t = t + dt\n"
   ]
  },
  {
   "cell_type": "code",
   "execution_count": null,
   "metadata": {},
   "outputs": [],
   "source": []
  }
 ],
 "metadata": {
  "kernelspec": {
   "display_name": "VPython",
   "language": "python",
   "name": "vpython"
  },
  "language_info": {
   "codemirror_mode": {
    "name": "ipython",
    "version": 3
   },
   "file_extension": ".py",
   "mimetype": "text/x-python",
   "name": "python",
   "nbconvert_exporter": "python",
   "pygments_lexer": "ipython3",
   "version": "3.8.0"
  }
 },
 "nbformat": 4,
 "nbformat_minor": 4
}
